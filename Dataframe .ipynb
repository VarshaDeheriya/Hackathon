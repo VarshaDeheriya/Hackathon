{
 "cells": [
  {
   "cell_type": "markdown",
   "id": "8ba80ff8",
   "metadata": {},
   "source": [
    "## Data Preparation and Modelling"
   ]
  },
  {
   "cell_type": "markdown",
   "id": "56e1118f",
   "metadata": {},
   "source": [
    "### Have a look at the steps that are followed:\n",
    "\n",
    "- Load the data\n",
    "- Analysis the data\n",
    "- Data Preparation\n",
    "- Training\n",
    "- Prediction\n",
    "- Evaluation"
   ]
  },
  {
   "cell_type": "markdown",
   "id": "297a7ca0",
   "metadata": {},
   "source": [
    "### Load the Data"
   ]
  },
  {
   "cell_type": "code",
   "execution_count": 1,
   "id": "d638963f",
   "metadata": {
    "ExecuteTime": {
     "end_time": "2023-02-11T11:13:59.911476Z",
     "start_time": "2023-02-11T11:13:43.463417Z"
    }
   },
   "outputs": [
    {
     "name": "stderr",
     "output_type": "stream",
     "text": [
      "E:\\Innomatics data sci\\lib\\site-packages\\numpy\\_distributor_init.py:30: UserWarning: loaded more than 1 DLL from .libs:\n",
      "E:\\Innomatics data sci\\lib\\site-packages\\numpy\\.libs\\libopenblas.EL2C6PLE4ZYW3ECEVIV3OXXGRN2NRFM2.gfortran-win_amd64.dll\n",
      "E:\\Innomatics data sci\\lib\\site-packages\\numpy\\.libs\\libopenblas.FB5AE2TYXYH2IJRDKGDGQ3XBKLKTF43H.gfortran-win_amd64.dll\n",
      "E:\\Innomatics data sci\\lib\\site-packages\\numpy\\.libs\\libopenblas.XWYDX2IKJW2NMTWSFYNGFUWKQU3LYTCZ.gfortran-win_amd64.dll\n",
      "E:\\Innomatics data sci\\lib\\site-packages\\numpy\\.libs\\libopenblas64__v0.3.21-gcc_10_3_0.dll\n",
      "  warnings.warn(\"loaded more than 1 DLL from .libs:\"\n"
     ]
    }
   ],
   "source": [
    "import numpy as np\n",
    "import pandas as pd\n",
    "import matplotlib.pyplot as plt\n",
    "import seaborn as sns"
   ]
  },
  {
   "cell_type": "code",
   "execution_count": 2,
   "id": "56590039",
   "metadata": {
    "ExecuteTime": {
     "end_time": "2023-02-11T11:14:00.008505Z",
     "start_time": "2023-02-11T11:13:59.915369Z"
    }
   },
   "outputs": [],
   "source": [
    "df = pd.read_csv(r'E:\\Excel_files\\Machine Learning\\dataframe_.csv')"
   ]
  },
  {
   "cell_type": "code",
   "execution_count": 3,
   "id": "30708b7e",
   "metadata": {
    "ExecuteTime": {
     "end_time": "2023-02-11T11:14:00.241117Z",
     "start_time": "2023-02-11T11:14:00.027536Z"
    }
   },
   "outputs": [
    {
     "data": {
      "text/html": [
       "<div>\n",
       "<style scoped>\n",
       "    .dataframe tbody tr th:only-of-type {\n",
       "        vertical-align: middle;\n",
       "    }\n",
       "\n",
       "    .dataframe tbody tr th {\n",
       "        vertical-align: top;\n",
       "    }\n",
       "\n",
       "    .dataframe thead th {\n",
       "        text-align: right;\n",
       "    }\n",
       "</style>\n",
       "<table border=\"1\" class=\"dataframe\">\n",
       "  <thead>\n",
       "    <tr style=\"text-align: right;\">\n",
       "      <th></th>\n",
       "      <th>input</th>\n",
       "      <th>output</th>\n",
       "    </tr>\n",
       "  </thead>\n",
       "  <tbody>\n",
       "    <tr>\n",
       "      <th>0</th>\n",
       "      <td>-122.740667</td>\n",
       "      <td>-130.572085</td>\n",
       "    </tr>\n",
       "    <tr>\n",
       "      <th>1</th>\n",
       "      <td>-121.531419</td>\n",
       "      <td>-129.938929</td>\n",
       "    </tr>\n",
       "    <tr>\n",
       "      <th>2</th>\n",
       "      <td>-134.917019</td>\n",
       "      <td>-130.141832</td>\n",
       "    </tr>\n",
       "    <tr>\n",
       "      <th>3</th>\n",
       "      <td>-120.605951</td>\n",
       "      <td>-125.760932</td>\n",
       "    </tr>\n",
       "    <tr>\n",
       "      <th>4</th>\n",
       "      <td>-129.894781</td>\n",
       "      <td>-112.785214</td>\n",
       "    </tr>\n",
       "  </tbody>\n",
       "</table>\n",
       "</div>"
      ],
      "text/plain": [
       "        input      output\n",
       "0 -122.740667 -130.572085\n",
       "1 -121.531419 -129.938929\n",
       "2 -134.917019 -130.141832\n",
       "3 -120.605951 -125.760932\n",
       "4 -129.894781 -112.785214"
      ]
     },
     "execution_count": 3,
     "metadata": {},
     "output_type": "execute_result"
    }
   ],
   "source": [
    "df.head()"
   ]
  },
  {
   "cell_type": "code",
   "execution_count": 4,
   "id": "26ef9a24",
   "metadata": {
    "ExecuteTime": {
     "end_time": "2023-02-11T11:14:00.426325Z",
     "start_time": "2023-02-11T11:14:00.253133Z"
    }
   },
   "outputs": [
    {
     "data": {
      "text/plain": [
       "(1697, 2)"
      ]
     },
     "execution_count": 4,
     "metadata": {},
     "output_type": "execute_result"
    }
   ],
   "source": [
    "df.shape"
   ]
  },
  {
   "cell_type": "code",
   "execution_count": 5,
   "id": "183cccb2",
   "metadata": {
    "ExecuteTime": {
     "end_time": "2023-02-11T11:14:00.679135Z",
     "start_time": "2023-02-11T11:14:00.439348Z"
    }
   },
   "outputs": [
    {
     "name": "stdout",
     "output_type": "stream",
     "text": [
      "<class 'pandas.core.frame.DataFrame'>\n",
      "RangeIndex: 1697 entries, 0 to 1696\n",
      "Data columns (total 2 columns):\n",
      " #   Column  Non-Null Count  Dtype  \n",
      "---  ------  --------------  -----  \n",
      " 0   input   1696 non-null   float64\n",
      " 1   output  1696 non-null   float64\n",
      "dtypes: float64(2)\n",
      "memory usage: 26.6 KB\n"
     ]
    }
   ],
   "source": [
    "df.info()"
   ]
  },
  {
   "cell_type": "code",
   "execution_count": 6,
   "id": "26f27ba5",
   "metadata": {
    "ExecuteTime": {
     "end_time": "2023-02-11T11:14:01.009799Z",
     "start_time": "2023-02-11T11:14:00.690153Z"
    }
   },
   "outputs": [
    {
     "data": {
      "text/plain": [
       "606"
      ]
     },
     "execution_count": 6,
     "metadata": {},
     "output_type": "execute_result"
    }
   ],
   "source": [
    "# Checking duplicates\n",
    "\n",
    "df.duplicated().sum()"
   ]
  },
  {
   "cell_type": "code",
   "execution_count": 7,
   "id": "dba2a6af",
   "metadata": {
    "ExecuteTime": {
     "end_time": "2023-02-11T11:14:01.240576Z",
     "start_time": "2023-02-11T11:14:01.018811Z"
    },
    "scrolled": true
   },
   "outputs": [
    {
     "data": {
      "text/html": [
       "<div>\n",
       "<style scoped>\n",
       "    .dataframe tbody tr th:only-of-type {\n",
       "        vertical-align: middle;\n",
       "    }\n",
       "\n",
       "    .dataframe tbody tr th {\n",
       "        vertical-align: top;\n",
       "    }\n",
       "\n",
       "    .dataframe thead th {\n",
       "        text-align: right;\n",
       "    }\n",
       "</style>\n",
       "<table border=\"1\" class=\"dataframe\">\n",
       "  <thead>\n",
       "    <tr style=\"text-align: right;\">\n",
       "      <th></th>\n",
       "      <th>input</th>\n",
       "      <th>output</th>\n",
       "    </tr>\n",
       "  </thead>\n",
       "  <tbody>\n",
       "    <tr>\n",
       "      <th>106</th>\n",
       "      <td>-63.366669</td>\n",
       "      <td>-33.000000</td>\n",
       "    </tr>\n",
       "    <tr>\n",
       "      <th>464</th>\n",
       "      <td>112.633331</td>\n",
       "      <td>103.000000</td>\n",
       "    </tr>\n",
       "    <tr>\n",
       "      <th>715</th>\n",
       "      <td>-31.366669</td>\n",
       "      <td>-49.000000</td>\n",
       "    </tr>\n",
       "    <tr>\n",
       "      <th>819</th>\n",
       "      <td>-117.366669</td>\n",
       "      <td>-75.000000</td>\n",
       "    </tr>\n",
       "    <tr>\n",
       "      <th>865</th>\n",
       "      <td>-131.366669</td>\n",
       "      <td>-125.000000</td>\n",
       "    </tr>\n",
       "    <tr>\n",
       "      <th>...</th>\n",
       "      <td>...</td>\n",
       "      <td>...</td>\n",
       "    </tr>\n",
       "    <tr>\n",
       "      <th>1692</th>\n",
       "      <td>25.410184</td>\n",
       "      <td>-76.380902</td>\n",
       "    </tr>\n",
       "    <tr>\n",
       "      <th>1693</th>\n",
       "      <td>29.537304</td>\n",
       "      <td>-82.796934</td>\n",
       "    </tr>\n",
       "    <tr>\n",
       "      <th>1694</th>\n",
       "      <td>31.633331</td>\n",
       "      <td>-87.000000</td>\n",
       "    </tr>\n",
       "    <tr>\n",
       "      <th>1695</th>\n",
       "      <td>29.091458</td>\n",
       "      <td>-104.943052</td>\n",
       "    </tr>\n",
       "    <tr>\n",
       "      <th>1696</th>\n",
       "      <td>17.145296</td>\n",
       "      <td>-101.726894</td>\n",
       "    </tr>\n",
       "  </tbody>\n",
       "</table>\n",
       "<p>606 rows × 2 columns</p>\n",
       "</div>"
      ],
      "text/plain": [
       "           input      output\n",
       "106   -63.366669  -33.000000\n",
       "464   112.633331  103.000000\n",
       "715   -31.366669  -49.000000\n",
       "819  -117.366669  -75.000000\n",
       "865  -131.366669 -125.000000\n",
       "...          ...         ...\n",
       "1692   25.410184  -76.380902\n",
       "1693   29.537304  -82.796934\n",
       "1694   31.633331  -87.000000\n",
       "1695   29.091458 -104.943052\n",
       "1696   17.145296 -101.726894\n",
       "\n",
       "[606 rows x 2 columns]"
      ]
     },
     "execution_count": 7,
     "metadata": {},
     "output_type": "execute_result"
    }
   ],
   "source": [
    "df[df.duplicated()]"
   ]
  },
  {
   "cell_type": "code",
   "execution_count": 8,
   "id": "afff0ad4",
   "metadata": {
    "ExecuteTime": {
     "end_time": "2023-02-11T11:14:01.405828Z",
     "start_time": "2023-02-11T11:14:01.250589Z"
    }
   },
   "outputs": [],
   "source": [
    "# drop duplicates\n",
    "\n",
    "df.drop_duplicates(keep = 'first', inplace = True)"
   ]
  },
  {
   "cell_type": "code",
   "execution_count": 9,
   "id": "dc7ae70e",
   "metadata": {
    "ExecuteTime": {
     "end_time": "2023-02-11T11:14:01.603133Z",
     "start_time": "2023-02-11T11:14:01.409835Z"
    }
   },
   "outputs": [
    {
     "data": {
      "text/plain": [
       "0"
      ]
     },
     "execution_count": 9,
     "metadata": {},
     "output_type": "execute_result"
    }
   ],
   "source": [
    "df.duplicated().sum()"
   ]
  },
  {
   "cell_type": "code",
   "execution_count": 10,
   "id": "3701f9e8",
   "metadata": {
    "ExecuteTime": {
     "end_time": "2023-02-11T11:14:01.777401Z",
     "start_time": "2023-02-11T11:14:01.614151Z"
    }
   },
   "outputs": [
    {
     "data": {
      "text/plain": [
       "['input', 'output']"
      ]
     },
     "execution_count": 10,
     "metadata": {},
     "output_type": "execute_result"
    }
   ],
   "source": [
    "# for checking the nan value column\n",
    "\n",
    "[features for features in df.columns if df[features].isna().sum()>0] "
   ]
  },
  {
   "cell_type": "code",
   "execution_count": 11,
   "id": "120d1ca2",
   "metadata": {
    "ExecuteTime": {
     "end_time": "2023-02-11T11:14:02.006105Z",
     "start_time": "2023-02-11T11:14:01.789421Z"
    }
   },
   "outputs": [
    {
     "data": {
      "text/plain": [
       "input     1\n",
       "output    1\n",
       "dtype: int64"
      ]
     },
     "execution_count": 11,
     "metadata": {},
     "output_type": "execute_result"
    }
   ],
   "source": [
    "# checking null values\n",
    "\n",
    "df.isnull().sum()"
   ]
  },
  {
   "cell_type": "code",
   "execution_count": 12,
   "id": "60a4e34a",
   "metadata": {
    "ExecuteTime": {
     "end_time": "2023-02-11T11:14:02.183381Z",
     "start_time": "2023-02-11T11:14:02.021132Z"
    }
   },
   "outputs": [
    {
     "name": "stdout",
     "output_type": "stream",
     "text": [
      "8.12 -27.38\n"
     ]
    }
   ],
   "source": [
    "a = round(df.input.mean(),2)\n",
    "b = round(df.output.mean(),2)\n",
    "print(a,b)"
   ]
  },
  {
   "cell_type": "code",
   "execution_count": 13,
   "id": "d1c71d39",
   "metadata": {
    "ExecuteTime": {
     "end_time": "2023-02-11T11:14:02.479834Z",
     "start_time": "2023-02-11T11:14:02.190388Z"
    }
   },
   "outputs": [],
   "source": [
    "df.input.replace(np.nan, a, inplace = True)\n",
    "df.output.replace(np.nan, b, inplace = True)"
   ]
  },
  {
   "cell_type": "code",
   "execution_count": 14,
   "id": "ce355ebf",
   "metadata": {
    "ExecuteTime": {
     "end_time": "2023-02-11T11:14:02.686588Z",
     "start_time": "2023-02-11T11:14:02.486844Z"
    }
   },
   "outputs": [
    {
     "data": {
      "text/plain": [
       "input     0\n",
       "output    0\n",
       "dtype: int64"
      ]
     },
     "execution_count": 14,
     "metadata": {},
     "output_type": "execute_result"
    }
   ],
   "source": [
    "df.isnull().sum()"
   ]
  },
  {
   "cell_type": "code",
   "execution_count": 15,
   "id": "8343c904",
   "metadata": {
    "ExecuteTime": {
     "end_time": "2023-02-11T11:14:02.813474Z",
     "start_time": "2023-02-11T11:14:02.696603Z"
    }
   },
   "outputs": [
    {
     "data": {
      "text/html": [
       "<div>\n",
       "<style scoped>\n",
       "    .dataframe tbody tr th:only-of-type {\n",
       "        vertical-align: middle;\n",
       "    }\n",
       "\n",
       "    .dataframe tbody tr th {\n",
       "        vertical-align: top;\n",
       "    }\n",
       "\n",
       "    .dataframe thead th {\n",
       "        text-align: right;\n",
       "    }\n",
       "</style>\n",
       "<table border=\"1\" class=\"dataframe\">\n",
       "  <thead>\n",
       "    <tr style=\"text-align: right;\">\n",
       "      <th></th>\n",
       "      <th>input</th>\n",
       "      <th>output</th>\n",
       "    </tr>\n",
       "  </thead>\n",
       "  <tbody>\n",
       "    <tr>\n",
       "      <th>0</th>\n",
       "      <td>-122.740667</td>\n",
       "      <td>-130.572085</td>\n",
       "    </tr>\n",
       "    <tr>\n",
       "      <th>1</th>\n",
       "      <td>-121.531419</td>\n",
       "      <td>-129.938929</td>\n",
       "    </tr>\n",
       "    <tr>\n",
       "      <th>2</th>\n",
       "      <td>-134.917019</td>\n",
       "      <td>-130.141832</td>\n",
       "    </tr>\n",
       "    <tr>\n",
       "      <th>3</th>\n",
       "      <td>-120.605951</td>\n",
       "      <td>-125.760932</td>\n",
       "    </tr>\n",
       "    <tr>\n",
       "      <th>4</th>\n",
       "      <td>-129.894781</td>\n",
       "      <td>-112.785214</td>\n",
       "    </tr>\n",
       "  </tbody>\n",
       "</table>\n",
       "</div>"
      ],
      "text/plain": [
       "        input      output\n",
       "0 -122.740667 -130.572085\n",
       "1 -121.531419 -129.938929\n",
       "2 -134.917019 -130.141832\n",
       "3 -120.605951 -125.760932\n",
       "4 -129.894781 -112.785214"
      ]
     },
     "execution_count": 15,
     "metadata": {},
     "output_type": "execute_result"
    }
   ],
   "source": [
    "df.head()"
   ]
  },
  {
   "cell_type": "code",
   "execution_count": 16,
   "id": "726c2521",
   "metadata": {
    "ExecuteTime": {
     "end_time": "2023-02-11T11:14:03.153881Z",
     "start_time": "2023-02-11T11:14:02.821486Z"
    }
   },
   "outputs": [
    {
     "data": {
      "text/plain": [
       "(1091, 2)"
      ]
     },
     "execution_count": 16,
     "metadata": {},
     "output_type": "execute_result"
    }
   ],
   "source": [
    "df.shape"
   ]
  },
  {
   "cell_type": "code",
   "execution_count": 17,
   "id": "64e08acc",
   "metadata": {
    "ExecuteTime": {
     "end_time": "2023-02-11T11:14:03.437396Z",
     "start_time": "2023-02-11T11:14:03.157886Z"
    }
   },
   "outputs": [
    {
     "name": "stdout",
     "output_type": "stream",
     "text": [
      "<class 'pandas.core.frame.DataFrame'>\n",
      "Int64Index: 1091 entries, 0 to 1439\n",
      "Data columns (total 2 columns):\n",
      " #   Column  Non-Null Count  Dtype  \n",
      "---  ------  --------------  -----  \n",
      " 0   input   1091 non-null   float64\n",
      " 1   output  1091 non-null   float64\n",
      "dtypes: float64(2)\n",
      "memory usage: 25.6 KB\n"
     ]
    }
   ],
   "source": [
    "df.info()"
   ]
  },
  {
   "cell_type": "code",
   "execution_count": 18,
   "id": "0dca89a8",
   "metadata": {
    "ExecuteTime": {
     "end_time": "2023-02-11T11:14:03.763530Z",
     "start_time": "2023-02-11T11:14:03.448416Z"
    }
   },
   "outputs": [
    {
     "data": {
      "text/plain": [
       "input     float64\n",
       "output    float64\n",
       "dtype: object"
      ]
     },
     "execution_count": 18,
     "metadata": {},
     "output_type": "execute_result"
    }
   ],
   "source": [
    "df.dtypes"
   ]
  },
  {
   "cell_type": "code",
   "execution_count": 19,
   "id": "49126c07",
   "metadata": {
    "ExecuteTime": {
     "end_time": "2023-02-11T11:14:04.080740Z",
     "start_time": "2023-02-11T11:14:03.774544Z"
    }
   },
   "outputs": [
    {
     "data": {
      "text/plain": [
       "input    -0.283802\n",
       "output    0.922656\n",
       "dtype: float64"
      ]
     },
     "execution_count": 19,
     "metadata": {},
     "output_type": "execute_result"
    }
   ],
   "source": [
    "# checking skewness\n",
    "\n",
    "df.skew()"
   ]
  },
  {
   "cell_type": "code",
   "execution_count": 20,
   "id": "e7ea6c58",
   "metadata": {
    "ExecuteTime": {
     "end_time": "2023-02-11T11:14:05.009203Z",
     "start_time": "2023-02-11T11:14:04.087750Z"
    }
   },
   "outputs": [
    {
     "data": {
      "image/png": "[encoded data removed]",
      "text/plain": [
       "<Figure size 1080x360 with 2 Axes>"
      ]
     },
     "metadata": {
      "needs_background": "light"
     },
     "output_type": "display_data"
    }
   ],
   "source": [
    "# checking outliers for input & output column\n",
    "\n",
    "#sns.boxplot(x=df.input)\n",
    "#sns.boxplot(x= df.output)\n",
    "\n",
    "plt.figure(figsize=(15,5))\n",
    "plt.subplot(121)\n",
    "sns.boxplot(x=df.input);\n",
    "\n",
    "plt.subplot(122)\n",
    "sns.boxplot(x=df.output);"
   ]
  },
  {
   "cell_type": "code",
   "execution_count": 21,
   "id": "a0074441",
   "metadata": {
    "ExecuteTime": {
     "end_time": "2023-02-11T11:14:05.045256Z",
     "start_time": "2023-02-11T11:14:05.023224Z"
    }
   },
   "outputs": [],
   "source": [
    "# Identify the outliers\n",
    "\n",
    "Q1,Q2,Q3 = tuple(df.output.quantile(q = [0.25, 0.5, 0.75 ]).values)"
   ]
  },
  {
   "cell_type": "code",
   "execution_count": 22,
   "id": "9cdd3975",
   "metadata": {
    "ExecuteTime": {
     "end_time": "2023-02-11T11:14:05.223016Z",
     "start_time": "2023-02-11T11:14:05.052270Z"
    }
   },
   "outputs": [
    {
     "name": "stdout",
     "output_type": "stream",
     "text": [
      "-76.9885951 -46.26979181 5.0754008045\n"
     ]
    }
   ],
   "source": [
    "print(Q1, Q2, Q3)"
   ]
  },
  {
   "cell_type": "code",
   "execution_count": 23,
   "id": "f9b64d5e",
   "metadata": {
    "ExecuteTime": {
     "end_time": "2023-02-11T11:14:05.472949Z",
     "start_time": "2023-02-11T11:14:05.227023Z"
    }
   },
   "outputs": [
    {
     "name": "stdout",
     "output_type": "stream",
     "text": [
      "82.0639959045 128.17139466125 -200.08458895675\n"
     ]
    }
   ],
   "source": [
    "IQR = Q3-Q1\n",
    "UL = Q3 + 1.5*IQR\n",
    "LL = Q1 - 1.5*IQR\n",
    "\n",
    "print(IQR, UL, LL)"
   ]
  },
  {
   "cell_type": "code",
   "execution_count": 24,
   "id": "c4864a7b",
   "metadata": {
    "ExecuteTime": {
     "end_time": "2023-02-11T11:14:05.784750Z",
     "start_time": "2023-02-11T11:14:05.476957Z"
    }
   },
   "outputs": [
    {
     "data": {
      "text/plain": [
       "input     17\n",
       "output    17\n",
       "dtype: int64"
      ]
     },
     "execution_count": 24,
     "metadata": {},
     "output_type": "execute_result"
    }
   ],
   "source": [
    "(df[(df.output > UL) | (df.output < LL)]).count()"
   ]
  },
  {
   "cell_type": "code",
   "execution_count": 25,
   "id": "a8a67cf3",
   "metadata": {
    "ExecuteTime": {
     "end_time": "2023-02-11T11:14:05.970456Z",
     "start_time": "2023-02-11T11:14:05.791759Z"
    }
   },
   "outputs": [
    {
     "data": {
      "text/plain": [
       "-1.0604091448640767"
      ]
     },
     "execution_count": 25,
     "metadata": {},
     "output_type": "execute_result"
    }
   ],
   "source": [
    "## cube transformation\n",
    "\n",
    "output_transformed = df.output**(1/3)\n",
    "df['output_transformed'] = output_transformed\n",
    "output_transformed.skew()\n"
   ]
  },
  {
   "cell_type": "code",
   "execution_count": 26,
   "id": "922e839c",
   "metadata": {
    "ExecuteTime": {
     "end_time": "2023-02-11T11:14:06.222676Z",
     "start_time": "2023-02-11T11:14:05.974463Z"
    }
   },
   "outputs": [
    {
     "data": {
      "text/html": [
       "<div>\n",
       "<style scoped>\n",
       "    .dataframe tbody tr th:only-of-type {\n",
       "        vertical-align: middle;\n",
       "    }\n",
       "\n",
       "    .dataframe tbody tr th {\n",
       "        vertical-align: top;\n",
       "    }\n",
       "\n",
       "    .dataframe thead th {\n",
       "        text-align: right;\n",
       "    }\n",
       "</style>\n",
       "<table border=\"1\" class=\"dataframe\">\n",
       "  <thead>\n",
       "    <tr style=\"text-align: right;\">\n",
       "      <th></th>\n",
       "      <th>input</th>\n",
       "      <th>output</th>\n",
       "      <th>output_transformed</th>\n",
       "    </tr>\n",
       "  </thead>\n",
       "  <tbody>\n",
       "    <tr>\n",
       "      <th>0</th>\n",
       "      <td>-122.740667</td>\n",
       "      <td>-130.572085</td>\n",
       "      <td>NaN</td>\n",
       "    </tr>\n",
       "    <tr>\n",
       "      <th>1</th>\n",
       "      <td>-121.531419</td>\n",
       "      <td>-129.938929</td>\n",
       "      <td>NaN</td>\n",
       "    </tr>\n",
       "    <tr>\n",
       "      <th>2</th>\n",
       "      <td>-134.917019</td>\n",
       "      <td>-130.141832</td>\n",
       "      <td>NaN</td>\n",
       "    </tr>\n",
       "    <tr>\n",
       "      <th>3</th>\n",
       "      <td>-120.605951</td>\n",
       "      <td>-125.760932</td>\n",
       "      <td>NaN</td>\n",
       "    </tr>\n",
       "    <tr>\n",
       "      <th>4</th>\n",
       "      <td>-129.894781</td>\n",
       "      <td>-112.785214</td>\n",
       "      <td>NaN</td>\n",
       "    </tr>\n",
       "  </tbody>\n",
       "</table>\n",
       "</div>"
      ],
      "text/plain": [
       "        input      output  output_transformed\n",
       "0 -122.740667 -130.572085                 NaN\n",
       "1 -121.531419 -129.938929                 NaN\n",
       "2 -134.917019 -130.141832                 NaN\n",
       "3 -120.605951 -125.760932                 NaN\n",
       "4 -129.894781 -112.785214                 NaN"
      ]
     },
     "execution_count": 26,
     "metadata": {},
     "output_type": "execute_result"
    }
   ],
   "source": [
    "df.head()"
   ]
  },
  {
   "cell_type": "code",
   "execution_count": 27,
   "id": "3ceedb3e",
   "metadata": {
    "ExecuteTime": {
     "end_time": "2023-02-11T11:14:06.442457Z",
     "start_time": "2023-02-11T11:14:06.233695Z"
    }
   },
   "outputs": [
    {
     "data": {
      "text/plain": [
       "810"
      ]
     },
     "execution_count": 27,
     "metadata": {},
     "output_type": "execute_result"
    }
   ],
   "source": [
    "df['output_transformed'].isnull().sum()\n"
   ]
  },
  {
   "cell_type": "code",
   "execution_count": 28,
   "id": "ec92609f",
   "metadata": {
    "ExecuteTime": {
     "end_time": "2023-02-11T11:14:06.788409Z",
     "start_time": "2023-02-11T11:14:06.455478Z"
    }
   },
   "outputs": [
    {
     "data": {
      "text/plain": [
       "<AxesSubplot: xlabel='output'>"
      ]
     },
     "execution_count": 28,
     "metadata": {},
     "output_type": "execute_result"
    },
    {
     "data": {
      "image/png": "[encoded data removed]",
      "text/plain": [
       "<Figure size 432x288 with 1 Axes>"
      ]
     },
     "metadata": {
      "needs_background": "light"
     },
     "output_type": "display_data"
    }
   ],
   "source": [
    "sns.boxplot(x= output_transformed)"
   ]
  },
  {
   "cell_type": "code",
   "execution_count": 29,
   "id": "e755c052",
   "metadata": {
    "ExecuteTime": {
     "end_time": "2023-02-11T11:14:06.960379Z",
     "start_time": "2023-02-11T11:14:06.799429Z"
    }
   },
   "outputs": [],
   "source": [
    "df.drop(['output_transformed'], axis =1, inplace = True)"
   ]
  },
  {
   "cell_type": "code",
   "execution_count": 30,
   "id": "e1f2c5bd",
   "metadata": {
    "ExecuteTime": {
     "end_time": "2023-02-11T11:14:08.829717Z",
     "start_time": "2023-02-11T11:14:06.965390Z"
    }
   },
   "outputs": [
    {
     "data": {
      "text/plain": [
       "<seaborn.axisgrid.PairGrid at 0x2a677dba7f0>"
      ]
     },
     "execution_count": 30,
     "metadata": {},
     "output_type": "execute_result"
    },
    {
     "data": {
      "image/png": "[encoded data removed]",
      "text/plain": [
       "<Figure size 360x360 with 6 Axes>"
      ]
     },
     "metadata": {
      "needs_background": "light"
     },
     "output_type": "display_data"
    }
   ],
   "source": [
    "sns.pairplot(df)"
   ]
  },
  {
   "cell_type": "code",
   "execution_count": 31,
   "id": "042f38b6",
   "metadata": {
    "ExecuteTime": {
     "end_time": "2023-02-11T11:14:08.855760Z",
     "start_time": "2023-02-11T11:14:08.834726Z"
    }
   },
   "outputs": [
    {
     "data": {
      "text/html": [
       "<div>\n",
       "<style scoped>\n",
       "    .dataframe tbody tr th:only-of-type {\n",
       "        vertical-align: middle;\n",
       "    }\n",
       "\n",
       "    .dataframe tbody tr th {\n",
       "        vertical-align: top;\n",
       "    }\n",
       "\n",
       "    .dataframe thead th {\n",
       "        text-align: right;\n",
       "    }\n",
       "</style>\n",
       "<table border=\"1\" class=\"dataframe\">\n",
       "  <thead>\n",
       "    <tr style=\"text-align: right;\">\n",
       "      <th></th>\n",
       "      <th>input</th>\n",
       "      <th>output</th>\n",
       "    </tr>\n",
       "  </thead>\n",
       "  <tbody>\n",
       "    <tr>\n",
       "      <th>input</th>\n",
       "      <td>1.000000</td>\n",
       "      <td>0.504471</td>\n",
       "    </tr>\n",
       "    <tr>\n",
       "      <th>output</th>\n",
       "      <td>0.504471</td>\n",
       "      <td>1.000000</td>\n",
       "    </tr>\n",
       "  </tbody>\n",
       "</table>\n",
       "</div>"
      ],
      "text/plain": [
       "           input    output\n",
       "input   1.000000  0.504471\n",
       "output  0.504471  1.000000"
      ]
     },
     "execution_count": 31,
     "metadata": {},
     "output_type": "execute_result"
    }
   ],
   "source": [
    "df_corr = df.corr()\n",
    "df_corr"
   ]
  },
  {
   "cell_type": "code",
   "execution_count": 32,
   "id": "f6d10ec4",
   "metadata": {
    "ExecuteTime": {
     "end_time": "2023-02-11T11:14:09.505755Z",
     "start_time": "2023-02-11T11:14:08.865776Z"
    }
   },
   "outputs": [
    {
     "data": {
      "image/png": "[encoded data removed]",
      "text/plain": [
       "<Figure size 720x432 with 2 Axes>"
      ]
     },
     "metadata": {
      "needs_background": "light"
     },
     "output_type": "display_data"
    }
   ],
   "source": [
    "plt.figure(figsize =(10,6))\n",
    "sns.heatmap(df_corr, cmap = 'summer', annot =True);"
   ]
  },
  {
   "cell_type": "markdown",
   "id": "44b8f4d3",
   "metadata": {},
   "source": [
    "## Observation: \n",
    "\n",
    "**Input and Output are Positively co-related to each other.** "
   ]
  },
  {
   "cell_type": "markdown",
   "id": "6ade1a02",
   "metadata": {},
   "source": [
    "## Machine Learning"
   ]
  },
  {
   "cell_type": "markdown",
   "id": "37ea45ef",
   "metadata": {
    "ExecuteTime": {
     "end_time": "2023-02-11T09:03:18.467079Z",
     "start_time": "2023-02-11T09:03:18.458063Z"
    }
   },
   "source": [
    "##  a. Identify Input(X) and output (y)"
   ]
  },
  {
   "cell_type": "code",
   "execution_count": 33,
   "id": "1ba2d062",
   "metadata": {
    "ExecuteTime": {
     "end_time": "2023-02-11T11:14:09.552824Z",
     "start_time": "2023-02-11T11:14:09.516775Z"
    }
   },
   "outputs": [],
   "source": [
    "y = df['output']\n",
    "X = df[['input']]"
   ]
  },
  {
   "cell_type": "markdown",
   "id": "2e63bd78",
   "metadata": {},
   "source": [
    "## Split the data"
   ]
  },
  {
   "cell_type": "code",
   "execution_count": 34,
   "id": "34ec8452",
   "metadata": {
    "ExecuteTime": {
     "end_time": "2023-02-11T11:14:10.919703Z",
     "start_time": "2023-02-11T11:14:09.569852Z"
    }
   },
   "outputs": [],
   "source": [
    "# split into train and test\n",
    "from sklearn.model_selection import train_test_split\n",
    "\n",
    "X_train, X_test, y_train, y_test = train_test_split(X,y, train_size = 0.75, random_state= 100)"
   ]
  },
  {
   "cell_type": "code",
   "execution_count": 35,
   "id": "f816d933",
   "metadata": {
    "ExecuteTime": {
     "end_time": "2023-02-11T11:14:10.954646Z",
     "start_time": "2023-02-11T11:14:10.924601Z"
    }
   },
   "outputs": [
    {
     "data": {
      "text/html": [
       "<div>\n",
       "<style scoped>\n",
       "    .dataframe tbody tr th:only-of-type {\n",
       "        vertical-align: middle;\n",
       "    }\n",
       "\n",
       "    .dataframe tbody tr th {\n",
       "        vertical-align: top;\n",
       "    }\n",
       "\n",
       "    .dataframe thead th {\n",
       "        text-align: right;\n",
       "    }\n",
       "</style>\n",
       "<table border=\"1\" class=\"dataframe\">\n",
       "  <thead>\n",
       "    <tr style=\"text-align: right;\">\n",
       "      <th></th>\n",
       "      <th>input</th>\n",
       "    </tr>\n",
       "  </thead>\n",
       "  <tbody>\n",
       "    <tr>\n",
       "      <th>603</th>\n",
       "      <td>32.633331</td>\n",
       "    </tr>\n",
       "    <tr>\n",
       "      <th>535</th>\n",
       "      <td>80.633331</td>\n",
       "    </tr>\n",
       "    <tr>\n",
       "      <th>245</th>\n",
       "      <td>34.475043</td>\n",
       "    </tr>\n",
       "    <tr>\n",
       "      <th>690</th>\n",
       "      <td>-6.532765</td>\n",
       "    </tr>\n",
       "    <tr>\n",
       "      <th>321</th>\n",
       "      <td>85.241190</td>\n",
       "    </tr>\n",
       "  </tbody>\n",
       "</table>\n",
       "</div>"
      ],
      "text/plain": [
       "         input\n",
       "603  32.633331\n",
       "535  80.633331\n",
       "245  34.475043\n",
       "690  -6.532765\n",
       "321  85.241190"
      ]
     },
     "execution_count": 35,
     "metadata": {},
     "output_type": "execute_result"
    }
   ],
   "source": [
    "X_train.head()"
   ]
  },
  {
   "cell_type": "code",
   "execution_count": 36,
   "id": "4f658c77",
   "metadata": {
    "ExecuteTime": {
     "end_time": "2023-02-11T11:14:11.237821Z",
     "start_time": "2023-02-11T11:14:10.980688Z"
    }
   },
   "outputs": [
    {
     "name": "stdout",
     "output_type": "stream",
     "text": [
      "(818, 1) (818,)\n",
      "(273, 1) (273,)\n"
     ]
    }
   ],
   "source": [
    "print(X_train.shape, y_train.shape)\n",
    "print(X_test.shape, y_test.shape)"
   ]
  },
  {
   "cell_type": "code",
   "execution_count": 37,
   "id": "11b1937c",
   "metadata": {
    "ExecuteTime": {
     "end_time": "2023-02-11T11:14:11.370026Z",
     "start_time": "2023-02-11T11:14:11.242831Z"
    }
   },
   "outputs": [
    {
     "data": {
      "text/plain": [
       "input    float64\n",
       "dtype: object"
      ]
     },
     "execution_count": 37,
     "metadata": {},
     "output_type": "execute_result"
    }
   ],
   "source": [
    "X_train.dtypes"
   ]
  },
  {
   "cell_type": "markdown",
   "id": "8c58eab7",
   "metadata": {
    "ExecuteTime": {
     "end_time": "2023-02-11T09:47:55.360354Z",
     "start_time": "2023-02-11T09:47:55.352341Z"
    }
   },
   "source": [
    "## b. Scaling the Numerical Features"
   ]
  },
  {
   "cell_type": "code",
   "execution_count": 38,
   "id": "24c1643c",
   "metadata": {
    "ExecuteTime": {
     "end_time": "2023-02-11T11:14:11.594342Z",
     "start_time": "2023-02-11T11:14:11.376034Z"
    }
   },
   "outputs": [
    {
     "data": {
      "text/html": [
       "<div>\n",
       "<style scoped>\n",
       "    .dataframe tbody tr th:only-of-type {\n",
       "        vertical-align: middle;\n",
       "    }\n",
       "\n",
       "    .dataframe tbody tr th {\n",
       "        vertical-align: top;\n",
       "    }\n",
       "\n",
       "    .dataframe thead th {\n",
       "        text-align: right;\n",
       "    }\n",
       "</style>\n",
       "<table border=\"1\" class=\"dataframe\">\n",
       "  <thead>\n",
       "    <tr style=\"text-align: right;\">\n",
       "      <th></th>\n",
       "      <th>input</th>\n",
       "    </tr>\n",
       "  </thead>\n",
       "  <tbody>\n",
       "    <tr>\n",
       "      <th>603</th>\n",
       "      <td>32.633331</td>\n",
       "    </tr>\n",
       "    <tr>\n",
       "      <th>535</th>\n",
       "      <td>80.633331</td>\n",
       "    </tr>\n",
       "    <tr>\n",
       "      <th>245</th>\n",
       "      <td>34.475043</td>\n",
       "    </tr>\n",
       "    <tr>\n",
       "      <th>690</th>\n",
       "      <td>-6.532765</td>\n",
       "    </tr>\n",
       "    <tr>\n",
       "      <th>321</th>\n",
       "      <td>85.241190</td>\n",
       "    </tr>\n",
       "  </tbody>\n",
       "</table>\n",
       "</div>"
      ],
      "text/plain": [
       "         input\n",
       "603  32.633331\n",
       "535  80.633331\n",
       "245  34.475043\n",
       "690  -6.532765\n",
       "321  85.241190"
      ]
     },
     "execution_count": 38,
     "metadata": {},
     "output_type": "execute_result"
    }
   ],
   "source": [
    "X_train.head()"
   ]
  },
  {
   "cell_type": "code",
   "execution_count": 39,
   "id": "880c0bd0",
   "metadata": {
    "ExecuteTime": {
     "end_time": "2023-02-11T11:14:11.924066Z",
     "start_time": "2023-02-11T11:14:11.599354Z"
    }
   },
   "outputs": [
    {
     "data": {
      "text/html": [
       "<div>\n",
       "<style scoped>\n",
       "    .dataframe tbody tr th:only-of-type {\n",
       "        vertical-align: middle;\n",
       "    }\n",
       "\n",
       "    .dataframe tbody tr th {\n",
       "        vertical-align: top;\n",
       "    }\n",
       "\n",
       "    .dataframe thead th {\n",
       "        text-align: right;\n",
       "    }\n",
       "</style>\n",
       "<table border=\"1\" class=\"dataframe\">\n",
       "  <thead>\n",
       "    <tr style=\"text-align: right;\">\n",
       "      <th></th>\n",
       "      <th>input</th>\n",
       "    </tr>\n",
       "  </thead>\n",
       "  <tbody>\n",
       "    <tr>\n",
       "      <th>603</th>\n",
       "      <td>0.314222</td>\n",
       "    </tr>\n",
       "    <tr>\n",
       "      <th>535</th>\n",
       "      <td>0.918608</td>\n",
       "    </tr>\n",
       "    <tr>\n",
       "      <th>245</th>\n",
       "      <td>0.337412</td>\n",
       "    </tr>\n",
       "    <tr>\n",
       "      <th>690</th>\n",
       "      <td>-0.178932</td>\n",
       "    </tr>\n",
       "    <tr>\n",
       "      <th>321</th>\n",
       "      <td>0.976627</td>\n",
       "    </tr>\n",
       "  </tbody>\n",
       "</table>\n",
       "</div>"
      ],
      "text/plain": [
       "        input\n",
       "603  0.314222\n",
       "535  0.918608\n",
       "245  0.337412\n",
       "690 -0.178932\n",
       "321  0.976627"
      ]
     },
     "execution_count": 39,
     "metadata": {},
     "output_type": "execute_result"
    }
   ],
   "source": [
    "# scaling the numeroical features\n",
    "from sklearn.preprocessing import StandardScaler\n",
    "\n",
    "scaler = StandardScaler()\n",
    "\n",
    "# column names are (annoyingly) lost after Scaling\n",
    "# (i.e. the dataframe is converted to a numpy ndarray)\n",
    "\n",
    "X_train_transformed = pd.DataFrame(scaler.fit_transform(X_train),\n",
    "                                   columns = X_train.columns,\n",
    "                                   index = X_train.index)\n",
    "\n",
    "X_train_transformed.head()"
   ]
  },
  {
   "cell_type": "code",
   "execution_count": 40,
   "id": "ccddb97f",
   "metadata": {
    "ExecuteTime": {
     "end_time": "2023-02-11T11:14:12.205433Z",
     "start_time": "2023-02-11T11:14:11.939091Z"
    }
   },
   "outputs": [
    {
     "data": {
      "text/html": [
       "<div>\n",
       "<style scoped>\n",
       "    .dataframe tbody tr th:only-of-type {\n",
       "        vertical-align: middle;\n",
       "    }\n",
       "\n",
       "    .dataframe tbody tr th {\n",
       "        vertical-align: top;\n",
       "    }\n",
       "\n",
       "    .dataframe thead th {\n",
       "        text-align: right;\n",
       "    }\n",
       "</style>\n",
       "<table border=\"1\" class=\"dataframe\">\n",
       "  <thead>\n",
       "    <tr style=\"text-align: right;\">\n",
       "      <th></th>\n",
       "      <th>input</th>\n",
       "    </tr>\n",
       "  </thead>\n",
       "  <tbody>\n",
       "    <tr>\n",
       "      <th>count</th>\n",
       "      <td>818.000000</td>\n",
       "    </tr>\n",
       "    <tr>\n",
       "      <th>mean</th>\n",
       "      <td>7.677955</td>\n",
       "    </tr>\n",
       "    <tr>\n",
       "      <th>std</th>\n",
       "      <td>79.468110</td>\n",
       "    </tr>\n",
       "    <tr>\n",
       "      <th>min</th>\n",
       "      <td>-134.962839</td>\n",
       "    </tr>\n",
       "    <tr>\n",
       "      <th>25%</th>\n",
       "      <td>-58.027606</td>\n",
       "    </tr>\n",
       "    <tr>\n",
       "      <th>50%</th>\n",
       "      <td>17.637363</td>\n",
       "    </tr>\n",
       "    <tr>\n",
       "      <th>75%</th>\n",
       "      <td>78.107321</td>\n",
       "    </tr>\n",
       "    <tr>\n",
       "      <th>max</th>\n",
       "      <td>134.605775</td>\n",
       "    </tr>\n",
       "  </tbody>\n",
       "</table>\n",
       "</div>"
      ],
      "text/plain": [
       "            input\n",
       "count  818.000000\n",
       "mean     7.677955\n",
       "std     79.468110\n",
       "min   -134.962839\n",
       "25%    -58.027606\n",
       "50%     17.637363\n",
       "75%     78.107321\n",
       "max    134.605775"
      ]
     },
     "execution_count": 40,
     "metadata": {},
     "output_type": "execute_result"
    }
   ],
   "source": [
    "X_train.describe()"
   ]
  },
  {
   "cell_type": "code",
   "execution_count": 41,
   "id": "a892caab",
   "metadata": {
    "ExecuteTime": {
     "end_time": "2023-02-11T11:14:12.492983Z",
     "start_time": "2023-02-11T11:14:12.217451Z"
    }
   },
   "outputs": [
    {
     "name": "stdout",
     "output_type": "stream",
     "text": [
      "Number of Numerical Feature: 1\n",
      "Mean of each column: [7.67795509]\n",
      "std of each column: [79.41952056]\n"
     ]
    }
   ],
   "source": [
    "print('Number of Numerical Feature:', scaler.n_features_in_)\n",
    "print('Mean of each column:', scaler.mean_)\n",
    "print('std of each column:', np.sqrt(scaler.var_))"
   ]
  },
  {
   "cell_type": "markdown",
   "id": "91709ac1",
   "metadata": {},
   "source": [
    "## c. Preparing Test Data"
   ]
  },
  {
   "cell_type": "code",
   "execution_count": 42,
   "id": "97fd7ee9",
   "metadata": {
    "ExecuteTime": {
     "end_time": "2023-02-11T11:14:12.670719Z",
     "start_time": "2023-02-11T11:14:12.503001Z"
    }
   },
   "outputs": [
    {
     "data": {
      "text/html": [
       "<div>\n",
       "<style scoped>\n",
       "    .dataframe tbody tr th:only-of-type {\n",
       "        vertical-align: middle;\n",
       "    }\n",
       "\n",
       "    .dataframe tbody tr th {\n",
       "        vertical-align: top;\n",
       "    }\n",
       "\n",
       "    .dataframe thead th {\n",
       "        text-align: right;\n",
       "    }\n",
       "</style>\n",
       "<table border=\"1\" class=\"dataframe\">\n",
       "  <thead>\n",
       "    <tr style=\"text-align: right;\">\n",
       "      <th></th>\n",
       "      <th>input</th>\n",
       "    </tr>\n",
       "  </thead>\n",
       "  <tbody>\n",
       "    <tr>\n",
       "      <th>1004</th>\n",
       "      <td>76.633331</td>\n",
       "    </tr>\n",
       "    <tr>\n",
       "      <th>899</th>\n",
       "      <td>7.225553</td>\n",
       "    </tr>\n",
       "    <tr>\n",
       "      <th>157</th>\n",
       "      <td>-47.188739</td>\n",
       "    </tr>\n",
       "    <tr>\n",
       "      <th>652</th>\n",
       "      <td>-1.374273</td>\n",
       "    </tr>\n",
       "    <tr>\n",
       "      <th>469</th>\n",
       "      <td>99.414940</td>\n",
       "    </tr>\n",
       "  </tbody>\n",
       "</table>\n",
       "</div>"
      ],
      "text/plain": [
       "          input\n",
       "1004  76.633331\n",
       "899    7.225553\n",
       "157  -47.188739\n",
       "652   -1.374273\n",
       "469   99.414940"
      ]
     },
     "execution_count": 42,
     "metadata": {},
     "output_type": "execute_result"
    }
   ],
   "source": [
    "X_test.head()"
   ]
  },
  {
   "cell_type": "code",
   "execution_count": 43,
   "id": "c398f10d",
   "metadata": {
    "ExecuteTime": {
     "end_time": "2023-02-11T11:14:13.012572Z",
     "start_time": "2023-02-11T11:14:12.682735Z"
    }
   },
   "outputs": [
    {
     "name": "stdout",
     "output_type": "stream",
     "text": [
      "<class 'pandas.core.frame.DataFrame'>\n",
      "Int64Index: 273 entries, 1004 to 774\n",
      "Data columns (total 1 columns):\n",
      " #   Column  Non-Null Count  Dtype  \n",
      "---  ------  --------------  -----  \n",
      " 0   input   273 non-null    float64\n",
      "dtypes: float64(1)\n",
      "memory usage: 4.3 KB\n"
     ]
    }
   ],
   "source": [
    "X_test.info()"
   ]
  },
  {
   "cell_type": "code",
   "execution_count": 44,
   "id": "30d31cb4",
   "metadata": {
    "ExecuteTime": {
     "end_time": "2023-02-11T11:14:13.327975Z",
     "start_time": "2023-02-11T11:14:13.024590Z"
    }
   },
   "outputs": [
    {
     "data": {
      "text/html": [
       "<div>\n",
       "<style scoped>\n",
       "    .dataframe tbody tr th:only-of-type {\n",
       "        vertical-align: middle;\n",
       "    }\n",
       "\n",
       "    .dataframe tbody tr th {\n",
       "        vertical-align: top;\n",
       "    }\n",
       "\n",
       "    .dataframe thead th {\n",
       "        text-align: right;\n",
       "    }\n",
       "</style>\n",
       "<table border=\"1\" class=\"dataframe\">\n",
       "  <thead>\n",
       "    <tr style=\"text-align: right;\">\n",
       "      <th></th>\n",
       "      <th>input</th>\n",
       "    </tr>\n",
       "  </thead>\n",
       "  <tbody>\n",
       "    <tr>\n",
       "      <th>1004</th>\n",
       "      <td>0.868242</td>\n",
       "    </tr>\n",
       "    <tr>\n",
       "      <th>899</th>\n",
       "      <td>-0.005696</td>\n",
       "    </tr>\n",
       "    <tr>\n",
       "      <th>157</th>\n",
       "      <td>-0.690846</td>\n",
       "    </tr>\n",
       "    <tr>\n",
       "      <th>652</th>\n",
       "      <td>-0.113980</td>\n",
       "    </tr>\n",
       "    <tr>\n",
       "      <th>469</th>\n",
       "      <td>1.155094</td>\n",
       "    </tr>\n",
       "  </tbody>\n",
       "</table>\n",
       "</div>"
      ],
      "text/plain": [
       "         input\n",
       "1004  0.868242\n",
       "899  -0.005696\n",
       "157  -0.690846\n",
       "652  -0.113980\n",
       "469   1.155094"
      ]
     },
     "execution_count": 44,
     "metadata": {},
     "output_type": "execute_result"
    }
   ],
   "source": [
    "X_test_transformed = pd.DataFrame(scaler.transform(X_test), \n",
    "                                   columns = X_test.columns, \n",
    "                                   index = X_test.index)\n",
    "\n",
    "X_test_transformed.head()"
   ]
  },
  {
   "cell_type": "markdown",
   "id": "3745737b",
   "metadata": {},
   "source": [
    "## Linear Regression"
   ]
  },
  {
   "cell_type": "code",
   "execution_count": 45,
   "id": "f7b4faf3",
   "metadata": {
    "ExecuteTime": {
     "end_time": "2023-02-11T11:14:14.388012Z",
     "start_time": "2023-02-11T11:14:13.339995Z"
    }
   },
   "outputs": [
    {
     "data": {
      "text/html": [
       "<style>#sk-container-id-1 {color: black;background-color: white;}#sk-container-id-1 pre{padding: 0;}#sk-container-id-1 div.sk-toggleable {background-color: white;}#sk-container-id-1 label.sk-toggleable__label {cursor: pointer;display: block;width: 100%;margin-bottom: 0;padding: 0.3em;box-sizing: border-box;text-align: center;}#sk-container-id-1 label.sk-toggleable__label-arrow:before {content: \"▸\";float: left;margin-right: 0.25em;color: #696969;}#sk-container-id-1 label.sk-toggleable__label-arrow:hover:before {color: black;}#sk-container-id-1 div.sk-estimator:hover label.sk-toggleable__label-arrow:before {color: black;}#sk-container-id-1 div.sk-toggleable__content {max-height: 0;max-width: 0;overflow: hidden;text-align: left;background-color: #f0f8ff;}#sk-container-id-1 div.sk-toggleable__content pre {margin: 0.2em;color: black;border-radius: 0.25em;background-color: #f0f8ff;}#sk-container-id-1 input.sk-toggleable__control:checked~div.sk-toggleable__content {max-height: 200px;max-width: 100%;overflow: auto;}#sk-container-id-1 input.sk-toggleable__control:checked~label.sk-toggleable__label-arrow:before {content: \"▾\";}#sk-container-id-1 div.sk-estimator input.sk-toggleable__control:checked~label.sk-toggleable__label {background-color: #d4ebff;}#sk-container-id-1 div.sk-label input.sk-toggleable__control:checked~label.sk-toggleable__label {background-color: #d4ebff;}#sk-container-id-1 input.sk-hidden--visually {border: 0;clip: rect(1px 1px 1px 1px);clip: rect(1px, 1px, 1px, 1px);height: 1px;margin: -1px;overflow: hidden;padding: 0;position: absolute;width: 1px;}#sk-container-id-1 div.sk-estimator {font-family: monospace;background-color: #f0f8ff;border: 1px dotted black;border-radius: 0.25em;box-sizing: border-box;margin-bottom: 0.5em;}#sk-container-id-1 div.sk-estimator:hover {background-color: #d4ebff;}#sk-container-id-1 div.sk-parallel-item::after {content: \"\";width: 100%;border-bottom: 1px solid gray;flex-grow: 1;}#sk-container-id-1 div.sk-label:hover label.sk-toggleable__label {background-color: #d4ebff;}#sk-container-id-1 div.sk-serial::before {content: \"\";position: absolute;border-left: 1px solid gray;box-sizing: border-box;top: 0;bottom: 0;left: 50%;z-index: 0;}#sk-container-id-1 div.sk-serial {display: flex;flex-direction: column;align-items: center;background-color: white;padding-right: 0.2em;padding-left: 0.2em;position: relative;}#sk-container-id-1 div.sk-item {position: relative;z-index: 1;}#sk-container-id-1 div.sk-parallel {display: flex;align-items: stretch;justify-content: center;background-color: white;position: relative;}#sk-container-id-1 div.sk-item::before, #sk-container-id-1 div.sk-parallel-item::before {content: \"\";position: absolute;border-left: 1px solid gray;box-sizing: border-box;top: 0;bottom: 0;left: 50%;z-index: -1;}#sk-container-id-1 div.sk-parallel-item {display: flex;flex-direction: column;z-index: 1;position: relative;background-color: white;}#sk-container-id-1 div.sk-parallel-item:first-child::after {align-self: flex-end;width: 50%;}#sk-container-id-1 div.sk-parallel-item:last-child::after {align-self: flex-start;width: 50%;}#sk-container-id-1 div.sk-parallel-item:only-child::after {width: 0;}#sk-container-id-1 div.sk-dashed-wrapped {border: 1px dashed gray;margin: 0 0.4em 0.5em 0.4em;box-sizing: border-box;padding-bottom: 0.4em;background-color: white;}#sk-container-id-1 div.sk-label label {font-family: monospace;font-weight: bold;display: inline-block;line-height: 1.2em;}#sk-container-id-1 div.sk-label-container {text-align: center;}#sk-container-id-1 div.sk-container {/* jupyter's `normalize.less` sets `[hidden] { display: none; }` but bootstrap.min.css set `[hidden] { display: none !important; }` so we also need the `!important` here to be able to override the default hidden behavior on the sphinx rendered scikit-learn.org. See: https://github.com/scikit-learn/scikit-learn/issues/21755 */display: inline-block !important;position: relative;}#sk-container-id-1 div.sk-text-repr-fallback {display: none;}</style><div id=\"sk-container-id-1\" class=\"sk-top-container\"><div class=\"sk-text-repr-fallback\"><pre>LinearRegression()</pre><b>In a Jupyter environment, please rerun this cell to show the HTML representation or trust the notebook. <br />On GitHub, the HTML representation is unable to render, please try loading this page with nbviewer.org.</b></div><div class=\"sk-container\" hidden><div class=\"sk-item\"><div class=\"sk-estimator sk-toggleable\"><input class=\"sk-toggleable__control sk-hidden--visually\" id=\"sk-estimator-id-1\" type=\"checkbox\" checked><label for=\"sk-estimator-id-1\" class=\"sk-toggleable__label sk-toggleable__label-arrow\">LinearRegression</label><div class=\"sk-toggleable__content\"><pre>LinearRegression()</pre></div></div></div></div></div>"
      ],
      "text/plain": [
       "LinearRegression()"
      ]
     },
     "execution_count": 45,
     "metadata": {},
     "output_type": "execute_result"
    }
   ],
   "source": [
    "from sklearn.linear_model import LinearRegression\n",
    "regressor = LinearRegression()\n",
    "regressor.fit(X_train_transformed, y_train)"
   ]
  },
  {
   "cell_type": "code",
   "execution_count": 46,
   "id": "c65cf1dd",
   "metadata": {
    "ExecuteTime": {
     "end_time": "2023-02-11T11:14:14.405035Z",
     "start_time": "2023-02-11T11:14:14.394018Z"
    }
   },
   "outputs": [],
   "source": [
    "# Prediction\n",
    "\n",
    "y_test_pred = regressor.predict(X_test_transformed)"
   ]
  },
  {
   "cell_type": "code",
   "execution_count": 47,
   "id": "0431ff42",
   "metadata": {
    "ExecuteTime": {
     "end_time": "2023-02-11T11:14:14.654611Z",
     "start_time": "2023-02-11T11:14:14.410046Z"
    }
   },
   "outputs": [
    {
     "data": {
      "text/html": [
       "<div>\n",
       "<style scoped>\n",
       "    .dataframe tbody tr th:only-of-type {\n",
       "        vertical-align: middle;\n",
       "    }\n",
       "\n",
       "    .dataframe tbody tr th {\n",
       "        vertical-align: top;\n",
       "    }\n",
       "\n",
       "    .dataframe thead th {\n",
       "        text-align: right;\n",
       "    }\n",
       "</style>\n",
       "<table border=\"1\" class=\"dataframe\">\n",
       "  <thead>\n",
       "    <tr style=\"text-align: right;\">\n",
       "      <th></th>\n",
       "      <th>Actual</th>\n",
       "      <th>Predicted</th>\n",
       "    </tr>\n",
       "  </thead>\n",
       "  <tbody>\n",
       "    <tr>\n",
       "      <th>1004</th>\n",
       "      <td>-15.000000</td>\n",
       "      <td>2.925714</td>\n",
       "    </tr>\n",
       "    <tr>\n",
       "      <th>899</th>\n",
       "      <td>-97.376142</td>\n",
       "      <td>-28.910137</td>\n",
       "    </tr>\n",
       "    <tr>\n",
       "      <th>157</th>\n",
       "      <td>-67.569154</td>\n",
       "      <td>-53.868799</td>\n",
       "    </tr>\n",
       "    <tr>\n",
       "      <th>652</th>\n",
       "      <td>-104.595355</td>\n",
       "      <td>-32.854691</td>\n",
       "    </tr>\n",
       "    <tr>\n",
       "      <th>469</th>\n",
       "      <td>85.239286</td>\n",
       "      <td>13.375146</td>\n",
       "    </tr>\n",
       "  </tbody>\n",
       "</table>\n",
       "</div>"
      ],
      "text/plain": [
       "          Actual  Predicted\n",
       "1004  -15.000000   2.925714\n",
       "899   -97.376142 -28.910137\n",
       "157   -67.569154 -53.868799\n",
       "652  -104.595355 -32.854691\n",
       "469    85.239286  13.375146"
      ]
     },
     "execution_count": 47,
     "metadata": {},
     "output_type": "execute_result"
    }
   ],
   "source": [
    "temp_df = pd.DataFrame({'Actual': y_test, 'Predicted': y_test_pred})\n",
    "\n",
    "temp_df.head()"
   ]
  },
  {
   "cell_type": "code",
   "execution_count": 48,
   "id": "410f4e8a",
   "metadata": {
    "ExecuteTime": {
     "end_time": "2023-02-11T11:14:15.365739Z",
     "start_time": "2023-02-11T11:14:14.660620Z"
    }
   },
   "outputs": [
    {
     "data": {
      "text/plain": [
       "<AxesSubplot: xlabel='output', ylabel='Count'>"
      ]
     },
     "execution_count": 48,
     "metadata": {},
     "output_type": "execute_result"
    },
    {
     "data": {
      "image/png": "[encoded data removed]",
      "text/plain": [
       "<Figure size 432x288 with 1 Axes>"
      ]
     },
     "metadata": {
      "needs_background": "light"
     },
     "output_type": "display_data"
    }
   ],
   "source": [
    "sns.histplot(y_test, color='blue', alpha=0.5)\n",
    "sns.histplot(y_test_pred, color='red', alpha=0.5)"
   ]
  },
  {
   "cell_type": "code",
   "execution_count": 49,
   "id": "61f63a5c",
   "metadata": {
    "ExecuteTime": {
     "end_time": "2023-02-11T11:14:15.394784Z",
     "start_time": "2023-02-11T11:14:15.371749Z"
    }
   },
   "outputs": [
    {
     "name": "stdout",
     "output_type": "stream",
     "text": [
      "Mean Absolute Error:  46.29072592667424\n",
      "Mean Squared Error:  3953.225299765986\n",
      "Root Mean Squared Error:  62.87467932137695\n"
     ]
    }
   ],
   "source": [
    "# Evaluation\n",
    "\n",
    "from sklearn import metrics\n",
    "\n",
    "MeanAbsoluteError_LR = metrics.mean_absolute_error(y_test, y_test_pred)\n",
    "MeanSquaredError_LR = metrics.mean_squared_error(y_test, y_test_pred)\n",
    "RootMeanSquaredError_LR = np.sqrt(metrics.mean_squared_error(y_test, y_test_pred))\n",
    "                                                \n",
    "print('Mean Absolute Error: ', MeanAbsoluteError_LR)\n",
    "\n",
    "print('Mean Squared Error: ', MeanSquaredError_LR)\n",
    "\n",
    "print('Root Mean Squared Error: ', RootMeanSquaredError_LR)"
   ]
  },
  {
   "cell_type": "markdown",
   "id": "0fd0576d",
   "metadata": {},
   "source": [
    "## KNN Regression"
   ]
  },
  {
   "cell_type": "code",
   "execution_count": 50,
   "id": "f23fd97d",
   "metadata": {
    "ExecuteTime": {
     "end_time": "2023-02-11T11:14:15.925972Z",
     "start_time": "2023-02-11T11:14:15.414813Z"
    }
   },
   "outputs": [
    {
     "data": {
      "text/html": [
       "<div>\n",
       "<style scoped>\n",
       "    .dataframe tbody tr th:only-of-type {\n",
       "        vertical-align: middle;\n",
       "    }\n",
       "\n",
       "    .dataframe tbody tr th {\n",
       "        vertical-align: top;\n",
       "    }\n",
       "\n",
       "    .dataframe thead th {\n",
       "        text-align: right;\n",
       "    }\n",
       "</style>\n",
       "<table border=\"1\" class=\"dataframe\">\n",
       "  <thead>\n",
       "    <tr style=\"text-align: right;\">\n",
       "      <th></th>\n",
       "      <th>Actual</th>\n",
       "      <th>Predicted</th>\n",
       "    </tr>\n",
       "  </thead>\n",
       "  <tbody>\n",
       "    <tr>\n",
       "      <th>1004</th>\n",
       "      <td>-15.000000</td>\n",
       "      <td>-16.511392</td>\n",
       "    </tr>\n",
       "    <tr>\n",
       "      <th>899</th>\n",
       "      <td>-97.376142</td>\n",
       "      <td>-80.128677</td>\n",
       "    </tr>\n",
       "    <tr>\n",
       "      <th>157</th>\n",
       "      <td>-67.569154</td>\n",
       "      <td>-40.628055</td>\n",
       "    </tr>\n",
       "    <tr>\n",
       "      <th>652</th>\n",
       "      <td>-104.595355</td>\n",
       "      <td>-84.383860</td>\n",
       "    </tr>\n",
       "    <tr>\n",
       "      <th>469</th>\n",
       "      <td>85.239286</td>\n",
       "      <td>81.201061</td>\n",
       "    </tr>\n",
       "  </tbody>\n",
       "</table>\n",
       "</div>"
      ],
      "text/plain": [
       "          Actual  Predicted\n",
       "1004  -15.000000 -16.511392\n",
       "899   -97.376142 -80.128677\n",
       "157   -67.569154 -40.628055\n",
       "652  -104.595355 -84.383860\n",
       "469    85.239286  81.201061"
      ]
     },
     "execution_count": 50,
     "metadata": {},
     "output_type": "execute_result"
    }
   ],
   "source": [
    "from sklearn.neighbors import KNeighborsRegressor\n",
    "regressor = KNeighborsRegressor()\n",
    "regressor.fit(X_train_transformed, y_train)\n",
    "\n",
    "# Prediction\n",
    "y_test_pred = regressor.predict(X_test_transformed)\n",
    "\n",
    "\n",
    "temp_df = pd.DataFrame({'Actual': y_test, 'Predicted': y_test_pred})\n",
    "temp_df.head()"
   ]
  },
  {
   "cell_type": "code",
   "execution_count": 51,
   "id": "ba8d1b71",
   "metadata": {
    "ExecuteTime": {
     "end_time": "2023-02-11T11:14:16.468804Z",
     "start_time": "2023-02-11T11:14:15.930983Z"
    }
   },
   "outputs": [
    {
     "data": {
      "text/plain": [
       "<AxesSubplot: xlabel='output', ylabel='Count'>"
      ]
     },
     "execution_count": 51,
     "metadata": {},
     "output_type": "execute_result"
    },
    {
     "data": {
      "image/png": "[encoded data removed]",
      "text/plain": [
       "<Figure size 432x288 with 1 Axes>"
      ]
     },
     "metadata": {
      "needs_background": "light"
     },
     "output_type": "display_data"
    }
   ],
   "source": [
    "sns.histplot(y_test, color='blue', alpha=0.5)\n",
    "sns.histplot(y_test_pred, color='red', alpha=0.5)"
   ]
  },
  {
   "cell_type": "code",
   "execution_count": 52,
   "id": "ae56a818",
   "metadata": {
    "ExecuteTime": {
     "end_time": "2023-02-11T11:14:16.507863Z",
     "start_time": "2023-02-11T11:14:16.473814Z"
    }
   },
   "outputs": [
    {
     "name": "stdout",
     "output_type": "stream",
     "text": [
      "Mean Absolute Error:  26.97805746722564\n",
      "Mean Squared Error:  2096.740512236495\n",
      "Root Mean Squared Error:  45.790179211666064\n"
     ]
    }
   ],
   "source": [
    "from sklearn import metrics\n",
    "\n",
    "MeanAbsoluteError_KNN = metrics.mean_absolute_error(y_test, y_test_pred)\n",
    "MeanSquaredError_KNN = metrics.mean_squared_error(y_test, y_test_pred)\n",
    "RootMeanSquaredError_KNN = np.sqrt(metrics.mean_squared_error(y_test, y_test_pred))\n",
    "                                                \n",
    "print('Mean Absolute Error: ', MeanAbsoluteError_KNN)\n",
    "\n",
    "print('Mean Squared Error: ', MeanSquaredError_KNN)\n",
    "\n",
    "print('Root Mean Squared Error: ', RootMeanSquaredError_KNN)"
   ]
  },
  {
   "cell_type": "markdown",
   "id": "4a25558f",
   "metadata": {},
   "source": [
    "## Decision Tree Regression"
   ]
  },
  {
   "cell_type": "code",
   "execution_count": 53,
   "id": "3c650bb7",
   "metadata": {
    "ExecuteTime": {
     "end_time": "2023-02-11T11:14:17.128163Z",
     "start_time": "2023-02-11T11:14:16.520887Z"
    }
   },
   "outputs": [
    {
     "data": {
      "text/html": [
       "<div>\n",
       "<style scoped>\n",
       "    .dataframe tbody tr th:only-of-type {\n",
       "        vertical-align: middle;\n",
       "    }\n",
       "\n",
       "    .dataframe tbody tr th {\n",
       "        vertical-align: top;\n",
       "    }\n",
       "\n",
       "    .dataframe thead th {\n",
       "        text-align: right;\n",
       "    }\n",
       "</style>\n",
       "<table border=\"1\" class=\"dataframe\">\n",
       "  <thead>\n",
       "    <tr style=\"text-align: right;\">\n",
       "      <th></th>\n",
       "      <th>Actual</th>\n",
       "      <th>Predicted</th>\n",
       "    </tr>\n",
       "  </thead>\n",
       "  <tbody>\n",
       "    <tr>\n",
       "      <th>1004</th>\n",
       "      <td>-15.000000</td>\n",
       "      <td>-11.000000</td>\n",
       "    </tr>\n",
       "    <tr>\n",
       "      <th>899</th>\n",
       "      <td>-97.376142</td>\n",
       "      <td>-79.156025</td>\n",
       "    </tr>\n",
       "    <tr>\n",
       "      <th>157</th>\n",
       "      <td>-67.569154</td>\n",
       "      <td>-50.565111</td>\n",
       "    </tr>\n",
       "    <tr>\n",
       "      <th>652</th>\n",
       "      <td>-104.595355</td>\n",
       "      <td>-55.570297</td>\n",
       "    </tr>\n",
       "    <tr>\n",
       "      <th>469</th>\n",
       "      <td>85.239286</td>\n",
       "      <td>77.056564</td>\n",
       "    </tr>\n",
       "  </tbody>\n",
       "</table>\n",
       "</div>"
      ],
      "text/plain": [
       "          Actual  Predicted\n",
       "1004  -15.000000 -11.000000\n",
       "899   -97.376142 -79.156025\n",
       "157   -67.569154 -50.565111\n",
       "652  -104.595355 -55.570297\n",
       "469    85.239286  77.056564"
      ]
     },
     "execution_count": 53,
     "metadata": {},
     "output_type": "execute_result"
    }
   ],
   "source": [
    "from sklearn.tree import DecisionTreeRegressor\n",
    "regressor = DecisionTreeRegressor()\n",
    "regressor.fit(X_train_transformed, y_train)\n",
    "\n",
    "# Prediction\n",
    "y_test_pred = regressor.predict(X_test_transformed)\n",
    "\n",
    "temp_df = pd.DataFrame({'Actual': y_test, 'Predicted': y_test_pred})\n",
    "temp_df.head()"
   ]
  },
  {
   "cell_type": "code",
   "execution_count": 54,
   "id": "e49be775",
   "metadata": {
    "ExecuteTime": {
     "end_time": "2023-02-11T11:14:17.811207Z",
     "start_time": "2023-02-11T11:14:17.140181Z"
    }
   },
   "outputs": [
    {
     "data": {
      "text/plain": [
       "<AxesSubplot: xlabel='output', ylabel='Count'>"
      ]
     },
     "execution_count": 54,
     "metadata": {},
     "output_type": "execute_result"
    },
    {
     "data": {
      "image/png": "[encoded data removed]",
      "text/plain": [
       "<Figure size 432x288 with 1 Axes>"
      ]
     },
     "metadata": {
      "needs_background": "light"
     },
     "output_type": "display_data"
    }
   ],
   "source": [
    "sns.histplot(y_test, color='blue', alpha=0.5)\n",
    "sns.histplot(y_test_pred, color='red', alpha=0.5)"
   ]
  },
  {
   "cell_type": "code",
   "execution_count": 55,
   "id": "5b330ac7",
   "metadata": {
    "ExecuteTime": {
     "end_time": "2023-02-11T11:14:17.863288Z",
     "start_time": "2023-02-11T11:14:17.826232Z"
    }
   },
   "outputs": [
    {
     "name": "stdout",
     "output_type": "stream",
     "text": [
      "Mean Absolute Error:  30.908289298655685\n",
      "Mean Squared Error:  2913.6571939939117\n",
      "Root Mean Squared Error:  53.978302992905505\n"
     ]
    }
   ],
   "source": [
    "from sklearn import metrics\n",
    "\n",
    "MeanAbsoluteError_DTR = metrics.mean_absolute_error(y_test, y_test_pred)\n",
    "MeanSquaredError_DTR = metrics.mean_squared_error(y_test, y_test_pred)\n",
    "RootMeanSquaredError_DTR = np.sqrt(metrics.mean_squared_error(y_test, y_test_pred))\n",
    "                                                \n",
    "print('Mean Absolute Error: ', MeanAbsoluteError_DTR)\n",
    "\n",
    "print('Mean Squared Error: ', MeanSquaredError_DTR)\n",
    "\n",
    "print('Root Mean Squared Error: ', RootMeanSquaredError_DTR)"
   ]
  },
  {
   "cell_type": "markdown",
   "id": "673f7296",
   "metadata": {},
   "source": [
    "## Ensemble"
   ]
  },
  {
   "cell_type": "markdown",
   "id": "bc568830",
   "metadata": {},
   "source": [
    "## Random Forest Regression"
   ]
  },
  {
   "cell_type": "code",
   "execution_count": 56,
   "id": "60e3c4e5",
   "metadata": {
    "ExecuteTime": {
     "end_time": "2023-02-11T11:14:18.924928Z",
     "start_time": "2023-02-11T11:14:17.871299Z"
    }
   },
   "outputs": [
    {
     "data": {
      "text/html": [
       "<div>\n",
       "<style scoped>\n",
       "    .dataframe tbody tr th:only-of-type {\n",
       "        vertical-align: middle;\n",
       "    }\n",
       "\n",
       "    .dataframe tbody tr th {\n",
       "        vertical-align: top;\n",
       "    }\n",
       "\n",
       "    .dataframe thead th {\n",
       "        text-align: right;\n",
       "    }\n",
       "</style>\n",
       "<table border=\"1\" class=\"dataframe\">\n",
       "  <thead>\n",
       "    <tr style=\"text-align: right;\">\n",
       "      <th></th>\n",
       "      <th>Actual</th>\n",
       "      <th>Predicted</th>\n",
       "    </tr>\n",
       "  </thead>\n",
       "  <tbody>\n",
       "    <tr>\n",
       "      <th>1004</th>\n",
       "      <td>-15.000000</td>\n",
       "      <td>-19.862057</td>\n",
       "    </tr>\n",
       "    <tr>\n",
       "      <th>899</th>\n",
       "      <td>-97.376142</td>\n",
       "      <td>-76.081030</td>\n",
       "    </tr>\n",
       "    <tr>\n",
       "      <th>157</th>\n",
       "      <td>-67.569154</td>\n",
       "      <td>-43.643701</td>\n",
       "    </tr>\n",
       "    <tr>\n",
       "      <th>652</th>\n",
       "      <td>-104.595355</td>\n",
       "      <td>-68.232073</td>\n",
       "    </tr>\n",
       "    <tr>\n",
       "      <th>469</th>\n",
       "      <td>85.239286</td>\n",
       "      <td>66.696302</td>\n",
       "    </tr>\n",
       "  </tbody>\n",
       "</table>\n",
       "</div>"
      ],
      "text/plain": [
       "          Actual  Predicted\n",
       "1004  -15.000000 -19.862057\n",
       "899   -97.376142 -76.081030\n",
       "157   -67.569154 -43.643701\n",
       "652  -104.595355 -68.232073\n",
       "469    85.239286  66.696302"
      ]
     },
     "execution_count": 56,
     "metadata": {},
     "output_type": "execute_result"
    }
   ],
   "source": [
    "from sklearn.ensemble import RandomForestRegressor\n",
    "regressor = RandomForestRegressor()\n",
    "regressor.fit(X_train_transformed, y_train)\n",
    "\n",
    "# Prediction\n",
    "y_test_pred = regressor.predict(X_test_transformed)\n",
    "\n",
    "temp_df = pd.DataFrame({'Actual': y_test, 'Predicted': y_test_pred})\n",
    "temp_df.head()"
   ]
  },
  {
   "cell_type": "code",
   "execution_count": 57,
   "id": "ffa002b4",
   "metadata": {
    "ExecuteTime": {
     "end_time": "2023-02-11T11:14:19.462853Z",
     "start_time": "2023-02-11T11:14:18.939953Z"
    }
   },
   "outputs": [
    {
     "data": {
      "text/plain": [
       "<AxesSubplot: xlabel='output', ylabel='Count'>"
      ]
     },
     "execution_count": 57,
     "metadata": {},
     "output_type": "execute_result"
    },
    {
     "data": {
      "image/png": "[encoded data removed]",
      "text/plain": [
       "<Figure size 432x288 with 1 Axes>"
      ]
     },
     "metadata": {
      "needs_background": "light"
     },
     "output_type": "display_data"
    }
   ],
   "source": [
    "sns.histplot(y_test, color='blue', alpha=0.5)\n",
    "sns.histplot(y_test_pred, color='red', alpha=0.5)"
   ]
  },
  {
   "cell_type": "code",
   "execution_count": 58,
   "id": "094af6c9",
   "metadata": {
    "ExecuteTime": {
     "end_time": "2023-02-11T11:14:19.735607Z",
     "start_time": "2023-02-11T11:14:19.466756Z"
    }
   },
   "outputs": [
    {
     "name": "stdout",
     "output_type": "stream",
     "text": [
      "Mean Absolute Error:  28.38797527386121\n",
      "Mean Squared Error:  2302.5264183755635\n",
      "Root Mean Squared Error:  47.98464773628711\n"
     ]
    }
   ],
   "source": [
    "from sklearn import metrics\n",
    "\n",
    "MeanAbsoluteError_RFR = metrics.mean_absolute_error(y_test, y_test_pred)\n",
    "MeanSquaredError_RFR = metrics.mean_squared_error(y_test, y_test_pred)\n",
    "RootMeanSquaredError_RFR = np.sqrt(metrics.mean_squared_error(y_test, y_test_pred))\n",
    "                                                \n",
    "print('Mean Absolute Error: ', MeanAbsoluteError_RFR)\n",
    "\n",
    "print('Mean Squared Error: ', MeanSquaredError_RFR)\n",
    "\n",
    "print('Root Mean Squared Error: ', RootMeanSquaredError_RFR)"
   ]
  },
  {
   "cell_type": "markdown",
   "id": "08c9a135",
   "metadata": {},
   "source": [
    "## Boosting\n",
    "\n",
    "## Gradient Boosted Decision Tree"
   ]
  },
  {
   "cell_type": "code",
   "execution_count": 59,
   "id": "615461a5",
   "metadata": {
    "ExecuteTime": {
     "end_time": "2023-02-11T11:14:20.473897Z",
     "start_time": "2023-02-11T11:14:19.739613Z"
    }
   },
   "outputs": [
    {
     "data": {
      "text/html": [
       "<div>\n",
       "<style scoped>\n",
       "    .dataframe tbody tr th:only-of-type {\n",
       "        vertical-align: middle;\n",
       "    }\n",
       "\n",
       "    .dataframe tbody tr th {\n",
       "        vertical-align: top;\n",
       "    }\n",
       "\n",
       "    .dataframe thead th {\n",
       "        text-align: right;\n",
       "    }\n",
       "</style>\n",
       "<table border=\"1\" class=\"dataframe\">\n",
       "  <thead>\n",
       "    <tr style=\"text-align: right;\">\n",
       "      <th></th>\n",
       "      <th>Actual</th>\n",
       "      <th>Predicted</th>\n",
       "    </tr>\n",
       "  </thead>\n",
       "  <tbody>\n",
       "    <tr>\n",
       "      <th>1004</th>\n",
       "      <td>-15.000000</td>\n",
       "      <td>-9.025659</td>\n",
       "    </tr>\n",
       "    <tr>\n",
       "      <th>899</th>\n",
       "      <td>-97.376142</td>\n",
       "      <td>-82.137281</td>\n",
       "    </tr>\n",
       "    <tr>\n",
       "      <th>157</th>\n",
       "      <td>-67.569154</td>\n",
       "      <td>-39.362154</td>\n",
       "    </tr>\n",
       "    <tr>\n",
       "      <th>652</th>\n",
       "      <td>-104.595355</td>\n",
       "      <td>-82.137281</td>\n",
       "    </tr>\n",
       "    <tr>\n",
       "      <th>469</th>\n",
       "      <td>85.239286</td>\n",
       "      <td>68.862103</td>\n",
       "    </tr>\n",
       "  </tbody>\n",
       "</table>\n",
       "</div>"
      ],
      "text/plain": [
       "          Actual  Predicted\n",
       "1004  -15.000000  -9.025659\n",
       "899   -97.376142 -82.137281\n",
       "157   -67.569154 -39.362154\n",
       "652  -104.595355 -82.137281\n",
       "469    85.239286  68.862103"
      ]
     },
     "execution_count": 59,
     "metadata": {},
     "output_type": "execute_result"
    }
   ],
   "source": [
    "from sklearn.ensemble import GradientBoostingRegressor\n",
    "regressor = GradientBoostingRegressor()\n",
    "regressor.fit(X_train_transformed, y_train)\n",
    "\n",
    "# Prediction\n",
    "y_test_pred = regressor.predict(X_test_transformed)\n",
    "\n",
    "temp_df = pd.DataFrame({'Actual': y_test, 'Predicted': y_test_pred})\n",
    "temp_df.head()"
   ]
  },
  {
   "cell_type": "code",
   "execution_count": 60,
   "id": "6cfc98c9",
   "metadata": {
    "ExecuteTime": {
     "end_time": "2023-02-11T11:14:20.939609Z",
     "start_time": "2023-02-11T11:14:20.478904Z"
    }
   },
   "outputs": [
    {
     "data": {
      "text/plain": [
       "<AxesSubplot: xlabel='output', ylabel='Count'>"
      ]
     },
     "execution_count": 60,
     "metadata": {},
     "output_type": "execute_result"
    },
    {
     "data": {
      "image/png": "[encoded data removed]",
      "text/plain": [
       "<Figure size 432x288 with 1 Axes>"
      ]
     },
     "metadata": {
      "needs_background": "light"
     },
     "output_type": "display_data"
    }
   ],
   "source": [
    "sns.histplot(y_test, color='blue', alpha=0.5)\n",
    "sns.histplot(y_test_pred, color='red', alpha=0.5)"
   ]
  },
  {
   "cell_type": "code",
   "execution_count": 61,
   "id": "2bfa9691",
   "metadata": {
    "ExecuteTime": {
     "end_time": "2023-02-11T11:14:20.961647Z",
     "start_time": "2023-02-11T11:14:20.944619Z"
    }
   },
   "outputs": [
    {
     "name": "stdout",
     "output_type": "stream",
     "text": [
      "Mean Absolute Error:  25.164688989688035\n",
      "Mean Squared Error:  2043.9034903822107\n",
      "Root Mean Squared Error:  45.20955087569673\n"
     ]
    }
   ],
   "source": [
    "from sklearn import metrics\n",
    "\n",
    "MeanAbsoluteError_GBDT = metrics.mean_absolute_error(y_test, y_test_pred)\n",
    "MeanSquaredError_GBDT = metrics.mean_squared_error(y_test, y_test_pred)\n",
    "RootMeanSquaredError_GBDT = np.sqrt(metrics.mean_squared_error(y_test, y_test_pred))\n",
    "                                                \n",
    "print('Mean Absolute Error: ', MeanAbsoluteError_GBDT)\n",
    "\n",
    "print('Mean Squared Error: ', MeanSquaredError_GBDT)\n",
    "\n",
    "print('Root Mean Squared Error: ', RootMeanSquaredError_GBDT)"
   ]
  },
  {
   "cell_type": "markdown",
   "id": "c04e20df",
   "metadata": {},
   "source": [
    "## Adaptive Boosting"
   ]
  },
  {
   "cell_type": "code",
   "execution_count": 62,
   "id": "37d9f652",
   "metadata": {
    "ExecuteTime": {
     "end_time": "2023-02-11T11:14:21.304966Z",
     "start_time": "2023-02-11T11:14:20.966655Z"
    }
   },
   "outputs": [
    {
     "data": {
      "text/html": [
       "<div>\n",
       "<style scoped>\n",
       "    .dataframe tbody tr th:only-of-type {\n",
       "        vertical-align: middle;\n",
       "    }\n",
       "\n",
       "    .dataframe tbody tr th {\n",
       "        vertical-align: top;\n",
       "    }\n",
       "\n",
       "    .dataframe thead th {\n",
       "        text-align: right;\n",
       "    }\n",
       "</style>\n",
       "<table border=\"1\" class=\"dataframe\">\n",
       "  <thead>\n",
       "    <tr style=\"text-align: right;\">\n",
       "      <th></th>\n",
       "      <th>Actual</th>\n",
       "      <th>Predicted</th>\n",
       "    </tr>\n",
       "  </thead>\n",
       "  <tbody>\n",
       "    <tr>\n",
       "      <th>1004</th>\n",
       "      <td>-15.000000</td>\n",
       "      <td>-12.509221</td>\n",
       "    </tr>\n",
       "    <tr>\n",
       "      <th>899</th>\n",
       "      <td>-97.376142</td>\n",
       "      <td>-65.946992</td>\n",
       "    </tr>\n",
       "    <tr>\n",
       "      <th>157</th>\n",
       "      <td>-67.569154</td>\n",
       "      <td>-65.946992</td>\n",
       "    </tr>\n",
       "    <tr>\n",
       "      <th>652</th>\n",
       "      <td>-104.595355</td>\n",
       "      <td>-65.946992</td>\n",
       "    </tr>\n",
       "    <tr>\n",
       "      <th>469</th>\n",
       "      <td>85.239286</td>\n",
       "      <td>76.863888</td>\n",
       "    </tr>\n",
       "  </tbody>\n",
       "</table>\n",
       "</div>"
      ],
      "text/plain": [
       "          Actual  Predicted\n",
       "1004  -15.000000 -12.509221\n",
       "899   -97.376142 -65.946992\n",
       "157   -67.569154 -65.946992\n",
       "652  -104.595355 -65.946992\n",
       "469    85.239286  76.863888"
      ]
     },
     "execution_count": 62,
     "metadata": {},
     "output_type": "execute_result"
    }
   ],
   "source": [
    "from sklearn.ensemble import AdaBoostRegressor\n",
    "regressor = AdaBoostRegressor()\n",
    "regressor.fit(X_train_transformed, y_train)\n",
    "\n",
    "# Prediction\n",
    "y_test_pred = regressor.predict(X_test_transformed)\n",
    "\n",
    "temp_df = pd.DataFrame({'Actual': y_test, 'Predicted': y_test_pred})\n",
    "temp_df.head()"
   ]
  },
  {
   "cell_type": "code",
   "execution_count": 63,
   "id": "de2eab87",
   "metadata": {
    "ExecuteTime": {
     "end_time": "2023-02-11T11:14:21.921729Z",
     "start_time": "2023-02-11T11:14:21.314980Z"
    }
   },
   "outputs": [
    {
     "data": {
      "text/plain": [
       "<AxesSubplot: xlabel='output', ylabel='Count'>"
      ]
     },
     "execution_count": 63,
     "metadata": {},
     "output_type": "execute_result"
    },
    {
     "data": {
      "image/png": "[encoded data removed]",
      "text/plain": [
       "<Figure size 432x288 with 1 Axes>"
      ]
     },
     "metadata": {
      "needs_background": "light"
     },
     "output_type": "display_data"
    }
   ],
   "source": [
    "sns.histplot(y_test, color='blue', alpha=0.5)\n",
    "sns.histplot(y_test_pred, color='red', alpha=0.5)"
   ]
  },
  {
   "cell_type": "code",
   "execution_count": 64,
   "id": "4bd11f3d",
   "metadata": {
    "ExecuteTime": {
     "end_time": "2023-02-11T11:14:21.970805Z",
     "start_time": "2023-02-11T11:14:21.926737Z"
    }
   },
   "outputs": [
    {
     "name": "stdout",
     "output_type": "stream",
     "text": [
      "Mean Absolute Error:  30.401447261951972\n",
      "Mean Squared Error:  2029.0433536908506\n",
      "Root Mean Squared Error:  45.044903748269356\n"
     ]
    }
   ],
   "source": [
    "from sklearn import metrics\n",
    "\n",
    "MeanAbsoluteError_ADB = metrics.mean_absolute_error(y_test, y_test_pred)\n",
    "MeanSquaredError_ADB = metrics.mean_squared_error(y_test, y_test_pred)\n",
    "RootMeanSquaredError_ADB = np.sqrt(metrics.mean_squared_error(y_test, y_test_pred))\n",
    "                                                \n",
    "print('Mean Absolute Error: ', MeanAbsoluteError_ADB)\n",
    "\n",
    "print('Mean Squared Error: ', MeanSquaredError_ADB)\n",
    "\n",
    "print('Root Mean Squared Error: ', RootMeanSquaredError_ADB)"
   ]
  },
  {
   "cell_type": "code",
   "execution_count": 65,
   "id": "35ef6386",
   "metadata": {
    "ExecuteTime": {
     "end_time": "2023-02-11T11:14:22.201154Z",
     "start_time": "2023-02-11T11:14:21.975810Z"
    }
   },
   "outputs": [],
   "source": [
    "df_data = [['Linear Regression',round(MeanAbsoluteError_LR,2), round(MeanSquaredError_LR,2), round(RootMeanSquaredError_LR,2)],\n",
    "                   ['K-Nearest Neighbor Regression', round(MeanAbsoluteError_KNN,2), round(MeanSquaredError_KNN,2), round(RootMeanSquaredError_KNN,2)],\n",
    "                   ['Decision Tree Regression', round(MeanAbsoluteError_DTR,2), round(MeanSquaredError_DTR,2), round(RootMeanSquaredError_DTR,2)],\n",
    "                   ['Random Forest Regression ', round(MeanAbsoluteError_RFR,2), round(MeanSquaredError_RFR,2), round(RootMeanSquaredError_RFR,2)],\n",
    "                   ['Gradient Boosting Decision Tree', round(MeanAbsoluteError_GBDT,2),round(MeanSquaredError_GBDT,2), round(RootMeanSquaredError_GBDT,2)],\n",
    "          ['Adaptive Boosting', round(MeanAbsoluteError_ADB,2), round(MeanSquaredError_ADB,2), round(RootMeanSquaredError_ADB,2)]]\n",
    "\n",
    "data = pd.DataFrame(df_data, columns = ['Algorithm','Mean_Absolute_Error','Mean_Square_Error','Root_Mean_Square_Error'])"
   ]
  },
  {
   "cell_type": "code",
   "execution_count": 66,
   "id": "f9206dc1",
   "metadata": {
    "ExecuteTime": {
     "end_time": "2023-02-11T11:14:22.446778Z",
     "start_time": "2023-02-11T11:14:22.207164Z"
    }
   },
   "outputs": [
    {
     "data": {
      "text/html": [
       "<div>\n",
       "<style scoped>\n",
       "    .dataframe tbody tr th:only-of-type {\n",
       "        vertical-align: middle;\n",
       "    }\n",
       "\n",
       "    .dataframe tbody tr th {\n",
       "        vertical-align: top;\n",
       "    }\n",
       "\n",
       "    .dataframe thead th {\n",
       "        text-align: right;\n",
       "    }\n",
       "</style>\n",
       "<table border=\"1\" class=\"dataframe\">\n",
       "  <thead>\n",
       "    <tr style=\"text-align: right;\">\n",
       "      <th></th>\n",
       "      <th>Algorithm</th>\n",
       "      <th>Mean_Absolute_Error</th>\n",
       "      <th>Mean_Square_Error</th>\n",
       "      <th>Root_Mean_Square_Error</th>\n",
       "    </tr>\n",
       "  </thead>\n",
       "  <tbody>\n",
       "    <tr>\n",
       "      <th>0</th>\n",
       "      <td>Linear Regression</td>\n",
       "      <td>46.29</td>\n",
       "      <td>3953.23</td>\n",
       "      <td>62.87</td>\n",
       "    </tr>\n",
       "    <tr>\n",
       "      <th>1</th>\n",
       "      <td>K-Nearest Neighbor Regression</td>\n",
       "      <td>26.98</td>\n",
       "      <td>2096.74</td>\n",
       "      <td>45.79</td>\n",
       "    </tr>\n",
       "    <tr>\n",
       "      <th>2</th>\n",
       "      <td>Decision Tree Regression</td>\n",
       "      <td>30.91</td>\n",
       "      <td>2913.66</td>\n",
       "      <td>53.98</td>\n",
       "    </tr>\n",
       "    <tr>\n",
       "      <th>3</th>\n",
       "      <td>Random Forest Regression</td>\n",
       "      <td>28.39</td>\n",
       "      <td>2302.53</td>\n",
       "      <td>47.98</td>\n",
       "    </tr>\n",
       "    <tr>\n",
       "      <th>4</th>\n",
       "      <td>Gradient Boosting Decision Tree</td>\n",
       "      <td>25.16</td>\n",
       "      <td>2043.90</td>\n",
       "      <td>45.21</td>\n",
       "    </tr>\n",
       "    <tr>\n",
       "      <th>5</th>\n",
       "      <td>Adaptive Boosting</td>\n",
       "      <td>30.40</td>\n",
       "      <td>2029.04</td>\n",
       "      <td>45.04</td>\n",
       "    </tr>\n",
       "  </tbody>\n",
       "</table>\n",
       "</div>"
      ],
      "text/plain": [
       "                         Algorithm  Mean_Absolute_Error  Mean_Square_Error  \\\n",
       "0                Linear Regression                46.29            3953.23   \n",
       "1    K-Nearest Neighbor Regression                26.98            2096.74   \n",
       "2         Decision Tree Regression                30.91            2913.66   \n",
       "3        Random Forest Regression                 28.39            2302.53   \n",
       "4  Gradient Boosting Decision Tree                25.16            2043.90   \n",
       "5                Adaptive Boosting                30.40            2029.04   \n",
       "\n",
       "   Root_Mean_Square_Error  \n",
       "0                   62.87  \n",
       "1                   45.79  \n",
       "2                   53.98  \n",
       "3                   47.98  \n",
       "4                   45.21  \n",
       "5                   45.04  "
      ]
     },
     "execution_count": 66,
     "metadata": {},
     "output_type": "execute_result"
    }
   ],
   "source": [
    "data"
   ]
  },
  {
   "cell_type": "code",
   "execution_count": 67,
   "id": "4785159d",
   "metadata": {
    "ExecuteTime": {
     "end_time": "2023-02-11T11:14:22.684811Z",
     "start_time": "2023-02-11T11:14:22.451789Z"
    }
   },
   "outputs": [],
   "source": [
    "# plt.figure(figsize=(15,9))\n",
    "# plt.subplot(311)\n",
    "# sns.barplot(y=data.Algorithm, x = data.Mean_Absolute_Error)\n",
    "# \n",
    "# plt.subplot(312)\n",
    "# sns.boxplot(y=data.Algorithm, x = data.Mean_Square_Error);\n",
    "# \n",
    "# plt.subplot(313)\n",
    "# sns.boxplot(y=data.Algorithm, x = data.Root_Mean_Square_Error);"
   ]
  },
  {
   "cell_type": "code",
   "execution_count": 68,
   "id": "9b0b9a0b",
   "metadata": {
    "ExecuteTime": {
     "end_time": "2023-02-11T11:14:23.230405Z",
     "start_time": "2023-02-11T11:14:22.689816Z"
    }
   },
   "outputs": [
    {
     "data": {
      "image/png": "[encoded data removed]",
      "text/plain": [
       "<Figure size 432x288 with 1 Axes>"
      ]
     },
     "metadata": {
      "needs_background": "light"
     },
     "output_type": "display_data"
    }
   ],
   "source": [
    "sns.barplot(y=data.Algorithm, x = data.Mean_Absolute_Error);\n"
   ]
  },
  {
   "cell_type": "markdown",
   "id": "65e42c14",
   "metadata": {},
   "source": [
    "## Observation\n",
    "\n",
    "**1. By observing the above table we can say that Gradient Boosting Decision Tree Mean absolute error is less i.e. 25.16 compaired to other algorithms.**\n",
    "\n",
    "**2. By compairing all algorithms we can easily says that Gradient Boosting Decision Tree is the best algorithm for the output prediction.**\n",
    "\n",
    "## Conclusion\n",
    "\n",
    "**Gradient Boosting Decision Tree is the best algorithm for the output prediction.**\n"
   ]
  },
  {
   "cell_type": "code",
   "execution_count": null,
   "id": "8c2e5658",
   "metadata": {},
   "outputs": [],
   "source": []
  }
 ],
 "metadata": {
  "kernelspec": {
   "display_name": "Python 3 (ipykernel)",
   "language": "python",
   "name": "python3"
  },
  "language_info": {
   "codemirror_mode": {
    "name": "ipython",
    "version": 3
   },
   "file_extension": ".py",
   "mimetype": "text/x-python",
   "name": "python",
   "nbconvert_exporter": "python",
   "pygments_lexer": "ipython3",
   "version": "3.9.12"
  }
 },
 "nbformat": 4,
 "nbformat_minor": 5
}
